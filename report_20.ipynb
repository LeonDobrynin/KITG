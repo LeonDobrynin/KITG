{
 "cells": [
  {
   "cell_type": "code",
   "execution_count": 2,
   "metadata": {},
   "outputs": [
    {
     "name": "stdout",
     "output_type": "stream",
     "text": [
      "До сортировки: [-49, 56, 60, -23, 87, 15, -12, -22, -29, -91, 55, 51, 97, 22, -1]\n",
      "После сортировки: [-91, -49, -29, -23, -22, -12, -1, 15, 22, 51, 55, 56, 60, 87, 97]\n"
     ]
    }
   ],
   "source": [
    "import random\n",
    "def sift_down(numbers, root, bottom):\n",
    "    done = False\n",
    "    while root * 2 + 1 <= bottom and not done:\n",
    "        child = root * 2 + 1\n",
    "        if child + 1 <= bottom and numbers[child] < numbers[child + 1]:\n",
    "            child += 1\n",
    "        if numbers[root] < numbers[child]:\n",
    "            numbers[root], numbers[child] = numbers[child], numbers[root]\n",
    "            root = child\n",
    "        else:\n",
    "            done = True\n",
    "def heap_sort(numbers):\n",
    "    array_size = len(numbers)\n",
    "    for i in range(array_size // 2 - 1, -1, -1):\n",
    "        sift_down(numbers, i, array_size - 1)\n",
    "    for i in range(array_size - 1, 0, -1):\n",
    "        numbers[0], numbers[i] = numbers[i], numbers[0]\n",
    "        sift_down(numbers, 0, i - 1)\n",
    "if __name__ == \"__main__\":\n",
    "    SIZE = 15\n",
    "    a = [random.randint(-100, 100) for _ in range(SIZE)]\n",
    "    print(\"До сортировки:\", a)\n",
    "    heap_sort(a)\n",
    "    print(\"После сортировки:\", a)\n"
   ]
  }
 ],
 "metadata": {
  "kernelspec": {
   "display_name": "base",
   "language": "python",
   "name": "python3"
  },
  "language_info": {
   "codemirror_mode": {
    "name": "ipython",
    "version": 3
   },
   "file_extension": ".py",
   "mimetype": "text/x-python",
   "name": "python",
   "nbconvert_exporter": "python",
   "pygments_lexer": "ipython3",
   "version": "3.11.4"
  }
 },
 "nbformat": 4,
 "nbformat_minor": 2
}
